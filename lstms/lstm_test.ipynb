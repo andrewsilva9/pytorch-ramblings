{
 "cells": [
  {
   "cell_type": "code",
   "execution_count": 1,
   "metadata": {},
   "outputs": [],
   "source": [
    "import torch\n",
    "import matplotlib.pyplot as plt\n",
    "import lstm_utils\n",
    "import fclstm\n",
    "import random"
   ]
  },
  {
   "cell_type": "code",
   "execution_count": 2,
   "metadata": {},
   "outputs": [],
   "source": [
    "# Learning Rate\n",
    "learning_rate = 1e-3\n",
    "running_loss = []\n",
    "BATCH_SIZE = 64\n",
    "# Use Fully Connected LSTM?:\n",
    "fc = True\n",
    "logs_per_epoch = 10\n",
    "num_epochs = 18\n",
    "# MAX\n",
    "_LEN = 500\n",
    "PAD_BATCH_FLAG = True\n",
    "train_loss = []\n",
    "test_loss = []\n",
    "use_gpu = torch.cuda.is_available()\n",
    "\n",
    "train_dir = '/home/asilva/Data/aclImdb/train'\n",
    "test_dir = '/home/asilva/Data/aclImdb/test'"
   ]
  },
  {
   "cell_type": "code",
   "execution_count": 3,
   "metadata": {},
   "outputs": [
    {
     "data": {
      "text/plain": [
       "True"
      ]
     },
     "execution_count": 3,
     "metadata": {},
     "output_type": "execute_result"
    }
   ],
   "source": [
    "use_gpu"
   ]
  },
  {
   "cell_type": "code",
   "execution_count": 4,
   "metadata": {},
   "outputs": [],
   "source": [
    "dataset, word_to_id = lstm_utils.build_dataset_imdb(train=True)\n",
    "vocab = len(word_to_id)\n",
    "test_dataset, word_to_id_t = lstm_utils.build_dataset_imdb(train=False)"
   ]
  },
  {
   "cell_type": "code",
   "execution_count": 5,
   "metadata": {},
   "outputs": [
    {
     "name": "stdout",
     "output_type": "stream",
     "text": [
      "946\n"
     ]
    }
   ],
   "source": [
    "print(word_to_id['alright'])"
   ]
  },
  {
   "cell_type": "code",
   "execution_count": 6,
   "metadata": {},
   "outputs": [],
   "source": [
    "# Sort for more efficient batching\n",
    "dataset.sort(key=lambda x: len(x[0]), reverse=True)\n",
    "test_dataset.sort(key=lambda x: len(x[0]), reverse=True)\n"
   ]
  },
  {
   "cell_type": "code",
   "execution_count": 7,
   "metadata": {},
   "outputs": [],
   "source": [
    "if fc:\n",
    "    model = fclstm.FCLSTM(vocab_size=vocab,\n",
    "                           hidden_dim=512,\n",
    "                           embed_dim=128,\n",
    "                           num_layers=1,\n",
    "                           num_classes=2,\n",
    "                           dropout=0.4,\n",
    "                           batch_size=BATCH_SIZE)\n",
    "else:\n",
    "    model = lstm_utils.Net(vocab_size=vocab,\n",
    "                           hidden_dim=512,\n",
    "                           embed_dim=128,\n",
    "                           num_layers=1,\n",
    "                           num_classes=2,\n",
    "                           dropout=0.4,\n",
    "                           batch_size=BATCH_SIZE)\n",
    "loss_fn = torch.nn.NLLLoss()\n",
    "if use_gpu:\n",
    "    model = model.cuda()\n",
    "    loss_fn = loss_fn.cuda()"
   ]
  },
  {
   "cell_type": "code",
   "execution_count": 8,
   "metadata": {},
   "outputs": [],
   "source": [
    "# Lists to keep track of average train / test losses over time (for plotting)\n",
    "step_size = BATCH_SIZE if PAD_BATCH_FLAG else 1\n",
    "train_log_interval = len(dataset)/step_size/logs_per_epoch\n",
    "test_log_interval = len(test_dataset)/step_size/logs_per_epoch"
   ]
  },
  {
   "cell_type": "code",
   "execution_count": 9,
   "metadata": {},
   "outputs": [
    {
     "name": "stdout",
     "output_type": "stream",
     "text": [
      "('EPOCH:', 1)\n",
      "Step 78 || Avg Loss: 0.686623841524\n",
      "Step 156 || Avg Loss: 0.655509205965\n",
      "Step 234 || Avg Loss: 0.540639139521\n",
      "Step 312 || Avg Loss: 0.497603384348\n",
      "Step 390 || Avg Loss: 0.459023484626\n",
      "Step 468 || Avg Loss: 0.452339950662\n",
      "Step 546 || Avg Loss: 0.398510616941\n",
      "Step 624 || Avg Loss: 0.367069698297\n",
      "Step 702 || Avg Loss: 0.359581107321\n",
      "Step 780 || Avg Loss: 0.310864886699\n",
      "('EPOCH:', 2)\n",
      "Step 78 || Avg Loss: 0.329009207969\n",
      "Step 156 || Avg Loss: 0.292726625617\n",
      "Step 234 || Avg Loss: 0.253643899105\n",
      "Step 312 || Avg Loss: 0.279482502681\n",
      "Step 390 || Avg Loss: 0.265057143373\n",
      "Step 468 || Avg Loss: 0.271811715256\n",
      "Step 546 || Avg Loss: 0.254474552014\n",
      "Step 624 || Avg Loss: 0.252441881272\n",
      "Step 702 || Avg Loss: 0.244309995323\n",
      "Step 780 || Avg Loss: 0.213488490058\n",
      "('EPOCH:', 3)\n",
      "Step 78 || Avg Loss: 0.234360287157\n",
      "Step 156 || Avg Loss: 0.176823065306\n",
      "Step 234 || Avg Loss: 0.169407272377\n",
      "Step 312 || Avg Loss: 0.208312306386\n",
      "Step 390 || Avg Loss: 0.182757374448\n",
      "Step 468 || Avg Loss: 0.210277421997\n",
      "Step 546 || Avg Loss: 0.186646922635\n",
      "Step 624 || Avg Loss: 0.174900695252\n",
      "Step 702 || Avg Loss: 0.170422237653\n",
      "Step 780 || Avg Loss: 0.189869947015\n",
      "('EPOCH:', 4)\n",
      "Step 78 || Avg Loss: 0.172581211115\n",
      "Step 156 || Avg Loss: 0.125458476731\n",
      "Step 234 || Avg Loss: 0.120517831905\n",
      "Step 312 || Avg Loss: 0.137064113473\n",
      "Step 390 || Avg Loss: 0.14944506864\n",
      "Step 468 || Avg Loss: 0.160305497213\n",
      "Step 546 || Avg Loss: 0.139488718544\n",
      "Step 624 || Avg Loss: 0.126451694383\n",
      "Step 702 || Avg Loss: 0.137390790006\n",
      "Step 780 || Avg Loss: 0.132311924576\n",
      "('EPOCH:', 5)\n",
      "Step 78 || Avg Loss: 0.145784706809\n",
      "Step 156 || Avg Loss: 0.0985757465689\n",
      "Step 234 || Avg Loss: 0.0799134850311\n",
      "Step 312 || Avg Loss: 0.126519605565\n",
      "Step 390 || Avg Loss: 0.109587847972\n",
      "Step 468 || Avg Loss: 0.128321172502\n",
      "Step 546 || Avg Loss: 0.112601237037\n",
      "Step 624 || Avg Loss: 0.129961651463\n",
      "Step 702 || Avg Loss: 0.116763574453\n",
      "Step 780 || Avg Loss: 0.134698630788\n",
      "('EPOCH:', 6)\n",
      "Step 78 || Avg Loss: 0.119721295646\n",
      "Step 156 || Avg Loss: 0.0775098747884\n",
      "Step 234 || Avg Loss: 0.0754185780787\n",
      "Step 312 || Avg Loss: 0.131402960453\n",
      "Step 390 || Avg Loss: 0.122709577903\n",
      "Step 468 || Avg Loss: 0.13563836034\n",
      "Step 546 || Avg Loss: 0.111580832718\n",
      "Step 624 || Avg Loss: 0.110929505088\n",
      "Step 702 || Avg Loss: 0.125503145755\n",
      "Step 780 || Avg Loss: 0.132006104295\n",
      "('EPOCH:', 7)\n",
      "Step 78 || Avg Loss: 0.128553962717\n",
      "Step 156 || Avg Loss: 0.0694965866681\n",
      "Step 234 || Avg Loss: 0.0821461682566\n",
      "Step 312 || Avg Loss: 0.0811535251828\n",
      "Step 390 || Avg Loss: 0.0827047220933\n",
      "Step 468 || Avg Loss: 0.0811443964545\n",
      "Step 546 || Avg Loss: 0.0518575270827\n",
      "Step 624 || Avg Loss: 0.0411409865826\n",
      "Step 702 || Avg Loss: 0.0296960139575\n",
      "Step 780 || Avg Loss: 0.0202432426218\n",
      "('EPOCH:', 8)\n",
      "Step 78 || Avg Loss: 0.0682677023877\n",
      "Step 156 || Avg Loss: 0.0283976692157\n",
      "Step 234 || Avg Loss: 0.0358192603199\n",
      "Step 312 || Avg Loss: 0.0292361272881\n",
      "Step 390 || Avg Loss: 0.0304766925386\n",
      "Step 468 || Avg Loss: 0.0335653685511\n",
      "Step 546 || Avg Loss: 0.0197738004992\n",
      "Step 624 || Avg Loss: 0.0117845682618\n",
      "Step 702 || Avg Loss: 0.0107263772844\n",
      "Step 780 || Avg Loss: 0.01089033894\n",
      "('EPOCH:', 9)\n",
      "Step 78 || Avg Loss: 0.037571205877\n",
      "Step 156 || Avg Loss: 0.012003840795\n",
      "Step 234 || Avg Loss: 0.0154087541577\n",
      "Step 312 || Avg Loss: 0.0123964879805\n",
      "Step 390 || Avg Loss: 0.0125914035508\n",
      "Step 468 || Avg Loss: 0.0128291877321\n",
      "Step 546 || Avg Loss: 0.00795298325232\n",
      "Step 624 || Avg Loss: 0.00496373477225\n",
      "Step 702 || Avg Loss: 0.00400042304626\n",
      "Step 780 || Avg Loss: 0.00487535542403\n",
      "('EPOCH:', 10)\n",
      "Step 78 || Avg Loss: 0.0152415657082\n",
      "Step 156 || Avg Loss: 0.00587582222831\n",
      "Step 234 || Avg Loss: 0.00771331135184\n",
      "Step 312 || Avg Loss: 0.00380820336823\n",
      "Step 390 || Avg Loss: 0.00553899186735\n",
      "Step 468 || Avg Loss: 0.00511031384126\n",
      "Step 546 || Avg Loss: 0.00400606456857\n",
      "Step 624 || Avg Loss: 0.00196885308012\n",
      "Step 702 || Avg Loss: 0.00151491664255\n",
      "Step 780 || Avg Loss: 0.00145513898669\n",
      "('EPOCH:', 11)\n",
      "Step 78 || Avg Loss: 0.00827450742229\n",
      "Step 156 || Avg Loss: 0.00212432391559\n",
      "Step 234 || Avg Loss: 0.0028476768818\n",
      "Step 312 || Avg Loss: 0.00116778513751\n",
      "Step 390 || Avg Loss: 0.00168621499473\n",
      "Step 468 || Avg Loss: 0.00142182944677\n",
      "Step 546 || Avg Loss: 0.00137665669601\n",
      "Step 624 || Avg Loss: 0.000830219342158\n",
      "Step 702 || Avg Loss: 0.00038278570924\n",
      "Step 780 || Avg Loss: 0.000466564956766\n",
      "('EPOCH:', 12)\n",
      "Step 78 || Avg Loss: 0.00524122886455\n",
      "Step 156 || Avg Loss: 0.000671861669383\n",
      "Step 234 || Avg Loss: 0.00157964141227\n",
      "Step 312 || Avg Loss: 0.00032762853572\n",
      "Step 390 || Avg Loss: 0.000427490004744\n",
      "Step 468 || Avg Loss: 0.000298375932452\n",
      "Step 546 || Avg Loss: 0.00049140309103\n",
      "Step 624 || Avg Loss: 0.000197795219719\n",
      "Step 702 || Avg Loss: 9.0255569189e-05\n",
      "Step 780 || Avg Loss: 0.000109598422662\n",
      "('EPOCH:', 13)\n",
      "Step 78 || Avg Loss: 0.00295872566028\n",
      "Step 156 || Avg Loss: 0.000204694576752\n",
      "Step 234 || Avg Loss: 0.000231759574933\n",
      "Step 312 || Avg Loss: 0.000113504819381\n",
      "Step 390 || Avg Loss: 0.000171617246591\n",
      "Step 468 || Avg Loss: 0.000101093775951\n",
      "Step 546 || Avg Loss: 0.000194558109611\n",
      "Step 624 || Avg Loss: 6.21829755031e-05\n",
      "Step 702 || Avg Loss: 3.06662076559e-05\n",
      "Step 780 || Avg Loss: 3.97665187334e-05\n",
      "('EPOCH:', 14)\n",
      "Step 78 || Avg Loss: 0.00215259313774\n",
      "Step 156 || Avg Loss: 0.000279994108356\n",
      "Step 234 || Avg Loss: 0.000231339787252\n",
      "Step 312 || Avg Loss: 0.000131689346372\n",
      "Step 390 || Avg Loss: 8.71795301254e-05\n",
      "Step 468 || Avg Loss: 5.64995675515e-05\n",
      "Step 546 || Avg Loss: 0.000240851181726\n",
      "Step 624 || Avg Loss: 6.61797821522e-05\n",
      "Step 702 || Avg Loss: 1.97291374207e-05\n",
      "Step 780 || Avg Loss: 2.42047393933e-05\n"
     ]
    }
   ],
   "source": [
    "for epoch in range(1, num_epochs+1):\n",
    "    # Training over all training data\n",
    "    print('EPOCH:', epoch)\n",
    "    if epoch < num_epochs/4:\n",
    "        lr = learning_rate\n",
    "    elif epoch < num_epochs/2:\n",
    "        lr = learning_rate * 0.5\n",
    "    else:\n",
    "        lr = learning_rate * 0.1\n",
    "    optimizer = torch.optim.Adam(model.parameters(), lr=lr, betas=(0.7, 0.99))\n",
    "    train_loss.extend(lstm_utils.pass_through(model,\n",
    "                                              loss_fn,\n",
    "                                              optimizer,\n",
    "                                              dataset,\n",
    "                                              batch=PAD_BATCH_FLAG,\n",
    "                                              batch_size=BATCH_SIZE,\n",
    "                                              train=True,\n",
    "                                              log_every=train_log_interval))\n",
    "    test_loss.extend(lstm_utils.pass_through(model,\n",
    "                                             loss_fn,\n",
    "                                             optimizer,\n",
    "                                             test_dataset,\n",
    "                                             batch=PAD_BATCH_FLAG,\n",
    "                                             batch_size=BATCH_SIZE,\n",
    "                                             train=False,\n",
    "                                             log_every=test_log_interval))\n",
    "    # Checkpoint the model with the state_dict, optimizer, and current epoch number\n",
    "    lstm_utils.save_checkpoint({\n",
    "        'epoch': epoch + 1,\n",
    "        'state_dict': model.state_dict(),\n",
    "        'optimizer': optimizer.state_dict(),\n",
    "    }, filename='sentiment_epoch'+str(epoch+1))"
   ]
  },
  {
   "cell_type": "code",
   "execution_count": 15,
   "metadata": {},
   "outputs": [
    {
     "data": {
      "text/plain": [
       "[<matplotlib.lines.Line2D at 0x7f135c211690>,\n",
       " <matplotlib.lines.Line2D at 0x7f13d247f1d0>]"
      ]
     },
     "execution_count": 15,
     "metadata": {},
     "output_type": "execute_result"
    },
    {
     "data": {
      "image/png": "[encoded data removed]",
      "text/plain": [
       "<matplotlib.figure.Figure at 0x7f13bc0c2390>"
      ]
     },
     "metadata": {},
     "output_type": "display_data"
    }
   ],
   "source": [
    "plt.plot(train_loss, 'r', test_loss, 'b')\n",
    "# plt.plot(train_loss, 'r')"
   ]
  },
  {
   "cell_type": "code",
   "execution_count": 14,
   "metadata": {},
   "outputs": [
    {
     "ename": "AttributeError",
     "evalue": "'list' object has no attribute 'savefig'",
     "output_type": "error",
     "traceback": [
      "\u001b[0;31m---------------------------------------------------------------------------\u001b[0m",
      "\u001b[0;31mAttributeError\u001b[0m                            Traceback (most recent call last)",
      "\u001b[0;32m<ipython-input-14-2442620a202e>\u001b[0m in \u001b[0;36m<module>\u001b[0;34m()\u001b[0m\n\u001b[0;32m----> 1\u001b[0;31m \u001b[0mfig\u001b[0m\u001b[0;34m.\u001b[0m\u001b[0msavefig\u001b[0m\u001b[0;34m(\u001b[0m\u001b[0;34m'avgplot.png'\u001b[0m\u001b[0;34m)\u001b[0m\u001b[0;34m\u001b[0m\u001b[0m\n\u001b[0m",
      "\u001b[0;31mAttributeError\u001b[0m: 'list' object has no attribute 'savefig'"
     ]
    }
   ],
   "source": [
    "plt.savefig('avg_losses.png')"
   ]
  },
  {
   "cell_type": "code",
   "execution_count": null,
   "metadata": {},
   "outputs": [],
   "source": []
  }
 ],
 "metadata": {
  "kernelspec": {
   "display_name": "Python 2",
   "language": "python",
   "name": "python2"
  },
  "language_info": {
   "codemirror_mode": {
    "name": "ipython",
    "version": 2
   },
   "file_extension": ".py",
   "mimetype": "text/x-python",
   "name": "python",
   "nbconvert_exporter": "python",
   "pygments_lexer": "ipython2",
   "version": "2.7.12"
  }
 },
 "nbformat": 4,
 "nbformat_minor": 2
}
